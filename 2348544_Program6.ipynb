{
  "nbformat": 4,
  "nbformat_minor": 0,
  "metadata": {
    "colab": {
      "provenance": [],
      "authorship_tag": "ABX9TyNpVScpAFMGtLyn2BHvZ0y7",
      "include_colab_link": true
    },
    "kernelspec": {
      "name": "python3",
      "display_name": "Python 3"
    },
    "language_info": {
      "name": "python"
    }
  },
  "cells": [
    {
      "cell_type": "markdown",
      "metadata": {
        "id": "view-in-github",
        "colab_type": "text"
      },
      "source": [
        "<a href=\"https://colab.research.google.com/github/rahul-727/AML-Lab_Work/blob/main/2348544_Program6.ipynb\" target=\"_parent\"><img src=\"https://colab.research.google.com/assets/colab-badge.svg\" alt=\"Open In Colab\"/></a>"
      ]
    },
    {
      "cell_type": "markdown",
      "source": [
        "Load the following datasets from sklearn Library\n",
        "\n",
        "* Breast Cancer dataset\n",
        "* Iris Dataset\n",
        "* Diabetes Dataset\n",
        "\n",
        "* Apply PCA find principal components and project in the lower dimensions\n",
        "* Print the variance of the coefficients\n",
        "* Apply LDA. Project the reduced dimensions.\n",
        "* Apply KNN, Decision Tree, Random Forest classifiers for all three datasets before and after\n",
        "dimensionality reduction.\n",
        "* Provide comparative analysis for all three datasets, in terms of all possible metrics\n",
        "* Provide conceptual interpretation of the results obtained\n",
        "\n",
        "\n"
      ],
      "metadata": {
        "id": "SCYZzABG6W0U"
      }
    },
    {
      "cell_type": "code",
      "execution_count": 1,
      "metadata": {
        "id": "r_1laBXbF41I"
      },
      "outputs": [],
      "source": [
        "import numpy as np\n",
        "import pandas as pd\n",
        "import matplotlib.pyplot as plt\n",
        "import seaborn as sns\n",
        "from sklearn.datasets import load_breast_cancer, load_iris, load_diabetes\n",
        "from sklearn.decomposition import PCA\n",
        "from sklearn.preprocessing import StandardScaler\n",
        "from sklearn.model_selection import train_test_split\n",
        "from sklearn.neighbors import KNeighborsClassifier\n",
        "from sklearn.tree import DecisionTreeClassifier\n",
        "from sklearn.ensemble import RandomForestClassifier\n",
        "from sklearn.discriminant_analysis import LinearDiscriminantAnalysis\n",
        "from sklearn.metrics import accuracy_score, precision_score, recall_score, f1_score, confusion_matrix"
      ]
    },
    {
      "cell_type": "code",
      "source": [
        "breast_cancer = load_breast_cancer()\n",
        "\n",
        "iris = load_iris()\n",
        "\n",
        "diabetes = pd.read_csv('/content/diabetes.csv')"
      ],
      "metadata": {
        "id": "MHK6nxPOGjIt"
      },
      "execution_count": 2,
      "outputs": []
    },
    {
      "cell_type": "code",
      "source": [
        "breast_cancer_df = pd.DataFrame(data=breast_cancer.data, columns=breast_cancer.feature_names)\n",
        "breast_cancer_df.head()"
      ],
      "metadata": {
        "colab": {
          "base_uri": "https://localhost:8080/",
          "height": 290
        },
        "id": "BKoG7xYtGtdF",
        "outputId": "6b284c35-74c3-4c57-cdad-281b3ce846c8"
      },
      "execution_count": 3,
      "outputs": [
        {
          "output_type": "execute_result",
          "data": {
            "text/plain": [
              "   mean radius  mean texture  mean perimeter  mean area  mean smoothness  \\\n",
              "0        17.99         10.38          122.80     1001.0          0.11840   \n",
              "1        20.57         17.77          132.90     1326.0          0.08474   \n",
              "2        19.69         21.25          130.00     1203.0          0.10960   \n",
              "3        11.42         20.38           77.58      386.1          0.14250   \n",
              "4        20.29         14.34          135.10     1297.0          0.10030   \n",
              "\n",
              "   mean compactness  mean concavity  mean concave points  mean symmetry  \\\n",
              "0           0.27760          0.3001              0.14710         0.2419   \n",
              "1           0.07864          0.0869              0.07017         0.1812   \n",
              "2           0.15990          0.1974              0.12790         0.2069   \n",
              "3           0.28390          0.2414              0.10520         0.2597   \n",
              "4           0.13280          0.1980              0.10430         0.1809   \n",
              "\n",
              "   mean fractal dimension  ...  worst radius  worst texture  worst perimeter  \\\n",
              "0                 0.07871  ...         25.38          17.33           184.60   \n",
              "1                 0.05667  ...         24.99          23.41           158.80   \n",
              "2                 0.05999  ...         23.57          25.53           152.50   \n",
              "3                 0.09744  ...         14.91          26.50            98.87   \n",
              "4                 0.05883  ...         22.54          16.67           152.20   \n",
              "\n",
              "   worst area  worst smoothness  worst compactness  worst concavity  \\\n",
              "0      2019.0            0.1622             0.6656           0.7119   \n",
              "1      1956.0            0.1238             0.1866           0.2416   \n",
              "2      1709.0            0.1444             0.4245           0.4504   \n",
              "3       567.7            0.2098             0.8663           0.6869   \n",
              "4      1575.0            0.1374             0.2050           0.4000   \n",
              "\n",
              "   worst concave points  worst symmetry  worst fractal dimension  \n",
              "0                0.2654          0.4601                  0.11890  \n",
              "1                0.1860          0.2750                  0.08902  \n",
              "2                0.2430          0.3613                  0.08758  \n",
              "3                0.2575          0.6638                  0.17300  \n",
              "4                0.1625          0.2364                  0.07678  \n",
              "\n",
              "[5 rows x 30 columns]"
            ],
            "text/html": [
              "\n",
              "  <div id=\"df-f11a87d2-9f8c-46a3-96a2-4db701b95f1c\" class=\"colab-df-container\">\n",
              "    <div>\n",
              "<style scoped>\n",
              "    .dataframe tbody tr th:only-of-type {\n",
              "        vertical-align: middle;\n",
              "    }\n",
              "\n",
              "    .dataframe tbody tr th {\n",
              "        vertical-align: top;\n",
              "    }\n",
              "\n",
              "    .dataframe thead th {\n",
              "        text-align: right;\n",
              "    }\n",
              "</style>\n",
              "<table border=\"1\" class=\"dataframe\">\n",
              "  <thead>\n",
              "    <tr style=\"text-align: right;\">\n",
              "      <th></th>\n",
              "      <th>mean radius</th>\n",
              "      <th>mean texture</th>\n",
              "      <th>mean perimeter</th>\n",
              "      <th>mean area</th>\n",
              "      <th>mean smoothness</th>\n",
              "      <th>mean compactness</th>\n",
              "      <th>mean concavity</th>\n",
              "      <th>mean concave points</th>\n",
              "      <th>mean symmetry</th>\n",
              "      <th>mean fractal dimension</th>\n",
              "      <th>...</th>\n",
              "      <th>worst radius</th>\n",
              "      <th>worst texture</th>\n",
              "      <th>worst perimeter</th>\n",
              "      <th>worst area</th>\n",
              "      <th>worst smoothness</th>\n",
              "      <th>worst compactness</th>\n",
              "      <th>worst concavity</th>\n",
              "      <th>worst concave points</th>\n",
              "      <th>worst symmetry</th>\n",
              "      <th>worst fractal dimension</th>\n",
              "    </tr>\n",
              "  </thead>\n",
              "  <tbody>\n",
              "    <tr>\n",
              "      <th>0</th>\n",
              "      <td>17.99</td>\n",
              "      <td>10.38</td>\n",
              "      <td>122.80</td>\n",
              "      <td>1001.0</td>\n",
              "      <td>0.11840</td>\n",
              "      <td>0.27760</td>\n",
              "      <td>0.3001</td>\n",
              "      <td>0.14710</td>\n",
              "      <td>0.2419</td>\n",
              "      <td>0.07871</td>\n",
              "      <td>...</td>\n",
              "      <td>25.38</td>\n",
              "      <td>17.33</td>\n",
              "      <td>184.60</td>\n",
              "      <td>2019.0</td>\n",
              "      <td>0.1622</td>\n",
              "      <td>0.6656</td>\n",
              "      <td>0.7119</td>\n",
              "      <td>0.2654</td>\n",
              "      <td>0.4601</td>\n",
              "      <td>0.11890</td>\n",
              "    </tr>\n",
              "    <tr>\n",
              "      <th>1</th>\n",
              "      <td>20.57</td>\n",
              "      <td>17.77</td>\n",
              "      <td>132.90</td>\n",
              "      <td>1326.0</td>\n",
              "      <td>0.08474</td>\n",
              "      <td>0.07864</td>\n",
              "      <td>0.0869</td>\n",
              "      <td>0.07017</td>\n",
              "      <td>0.1812</td>\n",
              "      <td>0.05667</td>\n",
              "      <td>...</td>\n",
              "      <td>24.99</td>\n",
              "      <td>23.41</td>\n",
              "      <td>158.80</td>\n",
              "      <td>1956.0</td>\n",
              "      <td>0.1238</td>\n",
              "      <td>0.1866</td>\n",
              "      <td>0.2416</td>\n",
              "      <td>0.1860</td>\n",
              "      <td>0.2750</td>\n",
              "      <td>0.08902</td>\n",
              "    </tr>\n",
              "    <tr>\n",
              "      <th>2</th>\n",
              "      <td>19.69</td>\n",
              "      <td>21.25</td>\n",
              "      <td>130.00</td>\n",
              "      <td>1203.0</td>\n",
              "      <td>0.10960</td>\n",
              "      <td>0.15990</td>\n",
              "      <td>0.1974</td>\n",
              "      <td>0.12790</td>\n",
              "      <td>0.2069</td>\n",
              "      <td>0.05999</td>\n",
              "      <td>...</td>\n",
              "      <td>23.57</td>\n",
              "      <td>25.53</td>\n",
              "      <td>152.50</td>\n",
              "      <td>1709.0</td>\n",
              "      <td>0.1444</td>\n",
              "      <td>0.4245</td>\n",
              "      <td>0.4504</td>\n",
              "      <td>0.2430</td>\n",
              "      <td>0.3613</td>\n",
              "      <td>0.08758</td>\n",
              "    </tr>\n",
              "    <tr>\n",
              "      <th>3</th>\n",
              "      <td>11.42</td>\n",
              "      <td>20.38</td>\n",
              "      <td>77.58</td>\n",
              "      <td>386.1</td>\n",
              "      <td>0.14250</td>\n",
              "      <td>0.28390</td>\n",
              "      <td>0.2414</td>\n",
              "      <td>0.10520</td>\n",
              "      <td>0.2597</td>\n",
              "      <td>0.09744</td>\n",
              "      <td>...</td>\n",
              "      <td>14.91</td>\n",
              "      <td>26.50</td>\n",
              "      <td>98.87</td>\n",
              "      <td>567.7</td>\n",
              "      <td>0.2098</td>\n",
              "      <td>0.8663</td>\n",
              "      <td>0.6869</td>\n",
              "      <td>0.2575</td>\n",
              "      <td>0.6638</td>\n",
              "      <td>0.17300</td>\n",
              "    </tr>\n",
              "    <tr>\n",
              "      <th>4</th>\n",
              "      <td>20.29</td>\n",
              "      <td>14.34</td>\n",
              "      <td>135.10</td>\n",
              "      <td>1297.0</td>\n",
              "      <td>0.10030</td>\n",
              "      <td>0.13280</td>\n",
              "      <td>0.1980</td>\n",
              "      <td>0.10430</td>\n",
              "      <td>0.1809</td>\n",
              "      <td>0.05883</td>\n",
              "      <td>...</td>\n",
              "      <td>22.54</td>\n",
              "      <td>16.67</td>\n",
              "      <td>152.20</td>\n",
              "      <td>1575.0</td>\n",
              "      <td>0.1374</td>\n",
              "      <td>0.2050</td>\n",
              "      <td>0.4000</td>\n",
              "      <td>0.1625</td>\n",
              "      <td>0.2364</td>\n",
              "      <td>0.07678</td>\n",
              "    </tr>\n",
              "  </tbody>\n",
              "</table>\n",
              "<p>5 rows × 30 columns</p>\n",
              "</div>\n",
              "    <div class=\"colab-df-buttons\">\n",
              "\n",
              "  <div class=\"colab-df-container\">\n",
              "    <button class=\"colab-df-convert\" onclick=\"convertToInteractive('df-f11a87d2-9f8c-46a3-96a2-4db701b95f1c')\"\n",
              "            title=\"Convert this dataframe to an interactive table.\"\n",
              "            style=\"display:none;\">\n",
              "\n",
              "  <svg xmlns=\"http://www.w3.org/2000/svg\" height=\"24px\" viewBox=\"0 -960 960 960\">\n",
              "    <path d=\"M120-120v-720h720v720H120Zm60-500h600v-160H180v160Zm220 220h160v-160H400v160Zm0 220h160v-160H400v160ZM180-400h160v-160H180v160Zm440 0h160v-160H620v160ZM180-180h160v-160H180v160Zm440 0h160v-160H620v160Z\"/>\n",
              "  </svg>\n",
              "    </button>\n",
              "\n",
              "  <style>\n",
              "    .colab-df-container {\n",
              "      display:flex;\n",
              "      gap: 12px;\n",
              "    }\n",
              "\n",
              "    .colab-df-convert {\n",
              "      background-color: #E8F0FE;\n",
              "      border: none;\n",
              "      border-radius: 50%;\n",
              "      cursor: pointer;\n",
              "      display: none;\n",
              "      fill: #1967D2;\n",
              "      height: 32px;\n",
              "      padding: 0 0 0 0;\n",
              "      width: 32px;\n",
              "    }\n",
              "\n",
              "    .colab-df-convert:hover {\n",
              "      background-color: #E2EBFA;\n",
              "      box-shadow: 0px 1px 2px rgba(60, 64, 67, 0.3), 0px 1px 3px 1px rgba(60, 64, 67, 0.15);\n",
              "      fill: #174EA6;\n",
              "    }\n",
              "\n",
              "    .colab-df-buttons div {\n",
              "      margin-bottom: 4px;\n",
              "    }\n",
              "\n",
              "    [theme=dark] .colab-df-convert {\n",
              "      background-color: #3B4455;\n",
              "      fill: #D2E3FC;\n",
              "    }\n",
              "\n",
              "    [theme=dark] .colab-df-convert:hover {\n",
              "      background-color: #434B5C;\n",
              "      box-shadow: 0px 1px 3px 1px rgba(0, 0, 0, 0.15);\n",
              "      filter: drop-shadow(0px 1px 2px rgba(0, 0, 0, 0.3));\n",
              "      fill: #FFFFFF;\n",
              "    }\n",
              "  </style>\n",
              "\n",
              "    <script>\n",
              "      const buttonEl =\n",
              "        document.querySelector('#df-f11a87d2-9f8c-46a3-96a2-4db701b95f1c button.colab-df-convert');\n",
              "      buttonEl.style.display =\n",
              "        google.colab.kernel.accessAllowed ? 'block' : 'none';\n",
              "\n",
              "      async function convertToInteractive(key) {\n",
              "        const element = document.querySelector('#df-f11a87d2-9f8c-46a3-96a2-4db701b95f1c');\n",
              "        const dataTable =\n",
              "          await google.colab.kernel.invokeFunction('convertToInteractive',\n",
              "                                                    [key], {});\n",
              "        if (!dataTable) return;\n",
              "\n",
              "        const docLinkHtml = 'Like what you see? Visit the ' +\n",
              "          '<a target=\"_blank\" href=https://colab.research.google.com/notebooks/data_table.ipynb>data table notebook</a>'\n",
              "          + ' to learn more about interactive tables.';\n",
              "        element.innerHTML = '';\n",
              "        dataTable['output_type'] = 'display_data';\n",
              "        await google.colab.output.renderOutput(dataTable, element);\n",
              "        const docLink = document.createElement('div');\n",
              "        docLink.innerHTML = docLinkHtml;\n",
              "        element.appendChild(docLink);\n",
              "      }\n",
              "    </script>\n",
              "  </div>\n",
              "\n",
              "\n",
              "<div id=\"df-85982ee1-33bf-4213-a720-a0115fadfb7c\">\n",
              "  <button class=\"colab-df-quickchart\" onclick=\"quickchart('df-85982ee1-33bf-4213-a720-a0115fadfb7c')\"\n",
              "            title=\"Suggest charts\"\n",
              "            style=\"display:none;\">\n",
              "\n",
              "<svg xmlns=\"http://www.w3.org/2000/svg\" height=\"24px\"viewBox=\"0 0 24 24\"\n",
              "     width=\"24px\">\n",
              "    <g>\n",
              "        <path d=\"M19 3H5c-1.1 0-2 .9-2 2v14c0 1.1.9 2 2 2h14c1.1 0 2-.9 2-2V5c0-1.1-.9-2-2-2zM9 17H7v-7h2v7zm4 0h-2V7h2v10zm4 0h-2v-4h2v4z\"/>\n",
              "    </g>\n",
              "</svg>\n",
              "  </button>\n",
              "\n",
              "<style>\n",
              "  .colab-df-quickchart {\n",
              "      --bg-color: #E8F0FE;\n",
              "      --fill-color: #1967D2;\n",
              "      --hover-bg-color: #E2EBFA;\n",
              "      --hover-fill-color: #174EA6;\n",
              "      --disabled-fill-color: #AAA;\n",
              "      --disabled-bg-color: #DDD;\n",
              "  }\n",
              "\n",
              "  [theme=dark] .colab-df-quickchart {\n",
              "      --bg-color: #3B4455;\n",
              "      --fill-color: #D2E3FC;\n",
              "      --hover-bg-color: #434B5C;\n",
              "      --hover-fill-color: #FFFFFF;\n",
              "      --disabled-bg-color: #3B4455;\n",
              "      --disabled-fill-color: #666;\n",
              "  }\n",
              "\n",
              "  .colab-df-quickchart {\n",
              "    background-color: var(--bg-color);\n",
              "    border: none;\n",
              "    border-radius: 50%;\n",
              "    cursor: pointer;\n",
              "    display: none;\n",
              "    fill: var(--fill-color);\n",
              "    height: 32px;\n",
              "    padding: 0;\n",
              "    width: 32px;\n",
              "  }\n",
              "\n",
              "  .colab-df-quickchart:hover {\n",
              "    background-color: var(--hover-bg-color);\n",
              "    box-shadow: 0 1px 2px rgba(60, 64, 67, 0.3), 0 1px 3px 1px rgba(60, 64, 67, 0.15);\n",
              "    fill: var(--button-hover-fill-color);\n",
              "  }\n",
              "\n",
              "  .colab-df-quickchart-complete:disabled,\n",
              "  .colab-df-quickchart-complete:disabled:hover {\n",
              "    background-color: var(--disabled-bg-color);\n",
              "    fill: var(--disabled-fill-color);\n",
              "    box-shadow: none;\n",
              "  }\n",
              "\n",
              "  .colab-df-spinner {\n",
              "    border: 2px solid var(--fill-color);\n",
              "    border-color: transparent;\n",
              "    border-bottom-color: var(--fill-color);\n",
              "    animation:\n",
              "      spin 1s steps(1) infinite;\n",
              "  }\n",
              "\n",
              "  @keyframes spin {\n",
              "    0% {\n",
              "      border-color: transparent;\n",
              "      border-bottom-color: var(--fill-color);\n",
              "      border-left-color: var(--fill-color);\n",
              "    }\n",
              "    20% {\n",
              "      border-color: transparent;\n",
              "      border-left-color: var(--fill-color);\n",
              "      border-top-color: var(--fill-color);\n",
              "    }\n",
              "    30% {\n",
              "      border-color: transparent;\n",
              "      border-left-color: var(--fill-color);\n",
              "      border-top-color: var(--fill-color);\n",
              "      border-right-color: var(--fill-color);\n",
              "    }\n",
              "    40% {\n",
              "      border-color: transparent;\n",
              "      border-right-color: var(--fill-color);\n",
              "      border-top-color: var(--fill-color);\n",
              "    }\n",
              "    60% {\n",
              "      border-color: transparent;\n",
              "      border-right-color: var(--fill-color);\n",
              "    }\n",
              "    80% {\n",
              "      border-color: transparent;\n",
              "      border-right-color: var(--fill-color);\n",
              "      border-bottom-color: var(--fill-color);\n",
              "    }\n",
              "    90% {\n",
              "      border-color: transparent;\n",
              "      border-bottom-color: var(--fill-color);\n",
              "    }\n",
              "  }\n",
              "</style>\n",
              "\n",
              "  <script>\n",
              "    async function quickchart(key) {\n",
              "      const quickchartButtonEl =\n",
              "        document.querySelector('#' + key + ' button');\n",
              "      quickchartButtonEl.disabled = true;  // To prevent multiple clicks.\n",
              "      quickchartButtonEl.classList.add('colab-df-spinner');\n",
              "      try {\n",
              "        const charts = await google.colab.kernel.invokeFunction(\n",
              "            'suggestCharts', [key], {});\n",
              "      } catch (error) {\n",
              "        console.error('Error during call to suggestCharts:', error);\n",
              "      }\n",
              "      quickchartButtonEl.classList.remove('colab-df-spinner');\n",
              "      quickchartButtonEl.classList.add('colab-df-quickchart-complete');\n",
              "    }\n",
              "    (() => {\n",
              "      let quickchartButtonEl =\n",
              "        document.querySelector('#df-85982ee1-33bf-4213-a720-a0115fadfb7c button');\n",
              "      quickchartButtonEl.style.display =\n",
              "        google.colab.kernel.accessAllowed ? 'block' : 'none';\n",
              "    })();\n",
              "  </script>\n",
              "</div>\n",
              "    </div>\n",
              "  </div>\n"
            ]
          },
          "metadata": {},
          "execution_count": 3
        }
      ]
    },
    {
      "cell_type": "code",
      "source": [
        "iris_data = pd.DataFrame(data=iris.data, columns=iris.feature_names)\n",
        "iris_data.head()"
      ],
      "metadata": {
        "colab": {
          "base_uri": "https://localhost:8080/",
          "height": 206
        },
        "id": "2danBuQfGe0V",
        "outputId": "cbd4700e-a59d-4f18-b9a4-fa347ba2e343"
      },
      "execution_count": 4,
      "outputs": [
        {
          "output_type": "execute_result",
          "data": {
            "text/plain": [
              "   sepal length (cm)  sepal width (cm)  petal length (cm)  petal width (cm)\n",
              "0                5.1               3.5                1.4               0.2\n",
              "1                4.9               3.0                1.4               0.2\n",
              "2                4.7               3.2                1.3               0.2\n",
              "3                4.6               3.1                1.5               0.2\n",
              "4                5.0               3.6                1.4               0.2"
            ],
            "text/html": [
              "\n",
              "  <div id=\"df-d696855c-dd87-4121-bc8c-9075ac9b4025\" class=\"colab-df-container\">\n",
              "    <div>\n",
              "<style scoped>\n",
              "    .dataframe tbody tr th:only-of-type {\n",
              "        vertical-align: middle;\n",
              "    }\n",
              "\n",
              "    .dataframe tbody tr th {\n",
              "        vertical-align: top;\n",
              "    }\n",
              "\n",
              "    .dataframe thead th {\n",
              "        text-align: right;\n",
              "    }\n",
              "</style>\n",
              "<table border=\"1\" class=\"dataframe\">\n",
              "  <thead>\n",
              "    <tr style=\"text-align: right;\">\n",
              "      <th></th>\n",
              "      <th>sepal length (cm)</th>\n",
              "      <th>sepal width (cm)</th>\n",
              "      <th>petal length (cm)</th>\n",
              "      <th>petal width (cm)</th>\n",
              "    </tr>\n",
              "  </thead>\n",
              "  <tbody>\n",
              "    <tr>\n",
              "      <th>0</th>\n",
              "      <td>5.1</td>\n",
              "      <td>3.5</td>\n",
              "      <td>1.4</td>\n",
              "      <td>0.2</td>\n",
              "    </tr>\n",
              "    <tr>\n",
              "      <th>1</th>\n",
              "      <td>4.9</td>\n",
              "      <td>3.0</td>\n",
              "      <td>1.4</td>\n",
              "      <td>0.2</td>\n",
              "    </tr>\n",
              "    <tr>\n",
              "      <th>2</th>\n",
              "      <td>4.7</td>\n",
              "      <td>3.2</td>\n",
              "      <td>1.3</td>\n",
              "      <td>0.2</td>\n",
              "    </tr>\n",
              "    <tr>\n",
              "      <th>3</th>\n",
              "      <td>4.6</td>\n",
              "      <td>3.1</td>\n",
              "      <td>1.5</td>\n",
              "      <td>0.2</td>\n",
              "    </tr>\n",
              "    <tr>\n",
              "      <th>4</th>\n",
              "      <td>5.0</td>\n",
              "      <td>3.6</td>\n",
              "      <td>1.4</td>\n",
              "      <td>0.2</td>\n",
              "    </tr>\n",
              "  </tbody>\n",
              "</table>\n",
              "</div>\n",
              "    <div class=\"colab-df-buttons\">\n",
              "\n",
              "  <div class=\"colab-df-container\">\n",
              "    <button class=\"colab-df-convert\" onclick=\"convertToInteractive('df-d696855c-dd87-4121-bc8c-9075ac9b4025')\"\n",
              "            title=\"Convert this dataframe to an interactive table.\"\n",
              "            style=\"display:none;\">\n",
              "\n",
              "  <svg xmlns=\"http://www.w3.org/2000/svg\" height=\"24px\" viewBox=\"0 -960 960 960\">\n",
              "    <path d=\"M120-120v-720h720v720H120Zm60-500h600v-160H180v160Zm220 220h160v-160H400v160Zm0 220h160v-160H400v160ZM180-400h160v-160H180v160Zm440 0h160v-160H620v160ZM180-180h160v-160H180v160Zm440 0h160v-160H620v160Z\"/>\n",
              "  </svg>\n",
              "    </button>\n",
              "\n",
              "  <style>\n",
              "    .colab-df-container {\n",
              "      display:flex;\n",
              "      gap: 12px;\n",
              "    }\n",
              "\n",
              "    .colab-df-convert {\n",
              "      background-color: #E8F0FE;\n",
              "      border: none;\n",
              "      border-radius: 50%;\n",
              "      cursor: pointer;\n",
              "      display: none;\n",
              "      fill: #1967D2;\n",
              "      height: 32px;\n",
              "      padding: 0 0 0 0;\n",
              "      width: 32px;\n",
              "    }\n",
              "\n",
              "    .colab-df-convert:hover {\n",
              "      background-color: #E2EBFA;\n",
              "      box-shadow: 0px 1px 2px rgba(60, 64, 67, 0.3), 0px 1px 3px 1px rgba(60, 64, 67, 0.15);\n",
              "      fill: #174EA6;\n",
              "    }\n",
              "\n",
              "    .colab-df-buttons div {\n",
              "      margin-bottom: 4px;\n",
              "    }\n",
              "\n",
              "    [theme=dark] .colab-df-convert {\n",
              "      background-color: #3B4455;\n",
              "      fill: #D2E3FC;\n",
              "    }\n",
              "\n",
              "    [theme=dark] .colab-df-convert:hover {\n",
              "      background-color: #434B5C;\n",
              "      box-shadow: 0px 1px 3px 1px rgba(0, 0, 0, 0.15);\n",
              "      filter: drop-shadow(0px 1px 2px rgba(0, 0, 0, 0.3));\n",
              "      fill: #FFFFFF;\n",
              "    }\n",
              "  </style>\n",
              "\n",
              "    <script>\n",
              "      const buttonEl =\n",
              "        document.querySelector('#df-d696855c-dd87-4121-bc8c-9075ac9b4025 button.colab-df-convert');\n",
              "      buttonEl.style.display =\n",
              "        google.colab.kernel.accessAllowed ? 'block' : 'none';\n",
              "\n",
              "      async function convertToInteractive(key) {\n",
              "        const element = document.querySelector('#df-d696855c-dd87-4121-bc8c-9075ac9b4025');\n",
              "        const dataTable =\n",
              "          await google.colab.kernel.invokeFunction('convertToInteractive',\n",
              "                                                    [key], {});\n",
              "        if (!dataTable) return;\n",
              "\n",
              "        const docLinkHtml = 'Like what you see? Visit the ' +\n",
              "          '<a target=\"_blank\" href=https://colab.research.google.com/notebooks/data_table.ipynb>data table notebook</a>'\n",
              "          + ' to learn more about interactive tables.';\n",
              "        element.innerHTML = '';\n",
              "        dataTable['output_type'] = 'display_data';\n",
              "        await google.colab.output.renderOutput(dataTable, element);\n",
              "        const docLink = document.createElement('div');\n",
              "        docLink.innerHTML = docLinkHtml;\n",
              "        element.appendChild(docLink);\n",
              "      }\n",
              "    </script>\n",
              "  </div>\n",
              "\n",
              "\n",
              "<div id=\"df-2172af4a-86a5-42f7-a4cd-fd90e6ba458e\">\n",
              "  <button class=\"colab-df-quickchart\" onclick=\"quickchart('df-2172af4a-86a5-42f7-a4cd-fd90e6ba458e')\"\n",
              "            title=\"Suggest charts\"\n",
              "            style=\"display:none;\">\n",
              "\n",
              "<svg xmlns=\"http://www.w3.org/2000/svg\" height=\"24px\"viewBox=\"0 0 24 24\"\n",
              "     width=\"24px\">\n",
              "    <g>\n",
              "        <path d=\"M19 3H5c-1.1 0-2 .9-2 2v14c0 1.1.9 2 2 2h14c1.1 0 2-.9 2-2V5c0-1.1-.9-2-2-2zM9 17H7v-7h2v7zm4 0h-2V7h2v10zm4 0h-2v-4h2v4z\"/>\n",
              "    </g>\n",
              "</svg>\n",
              "  </button>\n",
              "\n",
              "<style>\n",
              "  .colab-df-quickchart {\n",
              "      --bg-color: #E8F0FE;\n",
              "      --fill-color: #1967D2;\n",
              "      --hover-bg-color: #E2EBFA;\n",
              "      --hover-fill-color: #174EA6;\n",
              "      --disabled-fill-color: #AAA;\n",
              "      --disabled-bg-color: #DDD;\n",
              "  }\n",
              "\n",
              "  [theme=dark] .colab-df-quickchart {\n",
              "      --bg-color: #3B4455;\n",
              "      --fill-color: #D2E3FC;\n",
              "      --hover-bg-color: #434B5C;\n",
              "      --hover-fill-color: #FFFFFF;\n",
              "      --disabled-bg-color: #3B4455;\n",
              "      --disabled-fill-color: #666;\n",
              "  }\n",
              "\n",
              "  .colab-df-quickchart {\n",
              "    background-color: var(--bg-color);\n",
              "    border: none;\n",
              "    border-radius: 50%;\n",
              "    cursor: pointer;\n",
              "    display: none;\n",
              "    fill: var(--fill-color);\n",
              "    height: 32px;\n",
              "    padding: 0;\n",
              "    width: 32px;\n",
              "  }\n",
              "\n",
              "  .colab-df-quickchart:hover {\n",
              "    background-color: var(--hover-bg-color);\n",
              "    box-shadow: 0 1px 2px rgba(60, 64, 67, 0.3), 0 1px 3px 1px rgba(60, 64, 67, 0.15);\n",
              "    fill: var(--button-hover-fill-color);\n",
              "  }\n",
              "\n",
              "  .colab-df-quickchart-complete:disabled,\n",
              "  .colab-df-quickchart-complete:disabled:hover {\n",
              "    background-color: var(--disabled-bg-color);\n",
              "    fill: var(--disabled-fill-color);\n",
              "    box-shadow: none;\n",
              "  }\n",
              "\n",
              "  .colab-df-spinner {\n",
              "    border: 2px solid var(--fill-color);\n",
              "    border-color: transparent;\n",
              "    border-bottom-color: var(--fill-color);\n",
              "    animation:\n",
              "      spin 1s steps(1) infinite;\n",
              "  }\n",
              "\n",
              "  @keyframes spin {\n",
              "    0% {\n",
              "      border-color: transparent;\n",
              "      border-bottom-color: var(--fill-color);\n",
              "      border-left-color: var(--fill-color);\n",
              "    }\n",
              "    20% {\n",
              "      border-color: transparent;\n",
              "      border-left-color: var(--fill-color);\n",
              "      border-top-color: var(--fill-color);\n",
              "    }\n",
              "    30% {\n",
              "      border-color: transparent;\n",
              "      border-left-color: var(--fill-color);\n",
              "      border-top-color: var(--fill-color);\n",
              "      border-right-color: var(--fill-color);\n",
              "    }\n",
              "    40% {\n",
              "      border-color: transparent;\n",
              "      border-right-color: var(--fill-color);\n",
              "      border-top-color: var(--fill-color);\n",
              "    }\n",
              "    60% {\n",
              "      border-color: transparent;\n",
              "      border-right-color: var(--fill-color);\n",
              "    }\n",
              "    80% {\n",
              "      border-color: transparent;\n",
              "      border-right-color: var(--fill-color);\n",
              "      border-bottom-color: var(--fill-color);\n",
              "    }\n",
              "    90% {\n",
              "      border-color: transparent;\n",
              "      border-bottom-color: var(--fill-color);\n",
              "    }\n",
              "  }\n",
              "</style>\n",
              "\n",
              "  <script>\n",
              "    async function quickchart(key) {\n",
              "      const quickchartButtonEl =\n",
              "        document.querySelector('#' + key + ' button');\n",
              "      quickchartButtonEl.disabled = true;  // To prevent multiple clicks.\n",
              "      quickchartButtonEl.classList.add('colab-df-spinner');\n",
              "      try {\n",
              "        const charts = await google.colab.kernel.invokeFunction(\n",
              "            'suggestCharts', [key], {});\n",
              "      } catch (error) {\n",
              "        console.error('Error during call to suggestCharts:', error);\n",
              "      }\n",
              "      quickchartButtonEl.classList.remove('colab-df-spinner');\n",
              "      quickchartButtonEl.classList.add('colab-df-quickchart-complete');\n",
              "    }\n",
              "    (() => {\n",
              "      let quickchartButtonEl =\n",
              "        document.querySelector('#df-2172af4a-86a5-42f7-a4cd-fd90e6ba458e button');\n",
              "      quickchartButtonEl.style.display =\n",
              "        google.colab.kernel.accessAllowed ? 'block' : 'none';\n",
              "    })();\n",
              "  </script>\n",
              "</div>\n",
              "    </div>\n",
              "  </div>\n"
            ]
          },
          "metadata": {},
          "execution_count": 4
        }
      ]
    },
    {
      "cell_type": "code",
      "source": [
        "diabetes.head()"
      ],
      "metadata": {
        "colab": {
          "base_uri": "https://localhost:8080/",
          "height": 206
        },
        "id": "njY8DmU0KR58",
        "outputId": "721f0fe3-e520-432a-fcf5-d6635742352f"
      },
      "execution_count": 5,
      "outputs": [
        {
          "output_type": "execute_result",
          "data": {
            "text/plain": [
              "   Pregnancies  Glucose  BloodPressure  SkinThickness  Insulin   BMI  \\\n",
              "0            6      148             72             35        0  33.6   \n",
              "1            1       85             66             29        0  26.6   \n",
              "2            8      183             64              0        0  23.3   \n",
              "3            1       89             66             23       94  28.1   \n",
              "4            0      137             40             35      168  43.1   \n",
              "\n",
              "   DiabetesPedigreeFunction  Age  Outcome  \n",
              "0                     0.627   50        1  \n",
              "1                     0.351   31        0  \n",
              "2                     0.672   32        1  \n",
              "3                     0.167   21        0  \n",
              "4                     2.288   33        1  "
            ],
            "text/html": [
              "\n",
              "  <div id=\"df-7f523488-ea09-45ab-883b-3624f00b7751\" class=\"colab-df-container\">\n",
              "    <div>\n",
              "<style scoped>\n",
              "    .dataframe tbody tr th:only-of-type {\n",
              "        vertical-align: middle;\n",
              "    }\n",
              "\n",
              "    .dataframe tbody tr th {\n",
              "        vertical-align: top;\n",
              "    }\n",
              "\n",
              "    .dataframe thead th {\n",
              "        text-align: right;\n",
              "    }\n",
              "</style>\n",
              "<table border=\"1\" class=\"dataframe\">\n",
              "  <thead>\n",
              "    <tr style=\"text-align: right;\">\n",
              "      <th></th>\n",
              "      <th>Pregnancies</th>\n",
              "      <th>Glucose</th>\n",
              "      <th>BloodPressure</th>\n",
              "      <th>SkinThickness</th>\n",
              "      <th>Insulin</th>\n",
              "      <th>BMI</th>\n",
              "      <th>DiabetesPedigreeFunction</th>\n",
              "      <th>Age</th>\n",
              "      <th>Outcome</th>\n",
              "    </tr>\n",
              "  </thead>\n",
              "  <tbody>\n",
              "    <tr>\n",
              "      <th>0</th>\n",
              "      <td>6</td>\n",
              "      <td>148</td>\n",
              "      <td>72</td>\n",
              "      <td>35</td>\n",
              "      <td>0</td>\n",
              "      <td>33.6</td>\n",
              "      <td>0.627</td>\n",
              "      <td>50</td>\n",
              "      <td>1</td>\n",
              "    </tr>\n",
              "    <tr>\n",
              "      <th>1</th>\n",
              "      <td>1</td>\n",
              "      <td>85</td>\n",
              "      <td>66</td>\n",
              "      <td>29</td>\n",
              "      <td>0</td>\n",
              "      <td>26.6</td>\n",
              "      <td>0.351</td>\n",
              "      <td>31</td>\n",
              "      <td>0</td>\n",
              "    </tr>\n",
              "    <tr>\n",
              "      <th>2</th>\n",
              "      <td>8</td>\n",
              "      <td>183</td>\n",
              "      <td>64</td>\n",
              "      <td>0</td>\n",
              "      <td>0</td>\n",
              "      <td>23.3</td>\n",
              "      <td>0.672</td>\n",
              "      <td>32</td>\n",
              "      <td>1</td>\n",
              "    </tr>\n",
              "    <tr>\n",
              "      <th>3</th>\n",
              "      <td>1</td>\n",
              "      <td>89</td>\n",
              "      <td>66</td>\n",
              "      <td>23</td>\n",
              "      <td>94</td>\n",
              "      <td>28.1</td>\n",
              "      <td>0.167</td>\n",
              "      <td>21</td>\n",
              "      <td>0</td>\n",
              "    </tr>\n",
              "    <tr>\n",
              "      <th>4</th>\n",
              "      <td>0</td>\n",
              "      <td>137</td>\n",
              "      <td>40</td>\n",
              "      <td>35</td>\n",
              "      <td>168</td>\n",
              "      <td>43.1</td>\n",
              "      <td>2.288</td>\n",
              "      <td>33</td>\n",
              "      <td>1</td>\n",
              "    </tr>\n",
              "  </tbody>\n",
              "</table>\n",
              "</div>\n",
              "    <div class=\"colab-df-buttons\">\n",
              "\n",
              "  <div class=\"colab-df-container\">\n",
              "    <button class=\"colab-df-convert\" onclick=\"convertToInteractive('df-7f523488-ea09-45ab-883b-3624f00b7751')\"\n",
              "            title=\"Convert this dataframe to an interactive table.\"\n",
              "            style=\"display:none;\">\n",
              "\n",
              "  <svg xmlns=\"http://www.w3.org/2000/svg\" height=\"24px\" viewBox=\"0 -960 960 960\">\n",
              "    <path d=\"M120-120v-720h720v720H120Zm60-500h600v-160H180v160Zm220 220h160v-160H400v160Zm0 220h160v-160H400v160ZM180-400h160v-160H180v160Zm440 0h160v-160H620v160ZM180-180h160v-160H180v160Zm440 0h160v-160H620v160Z\"/>\n",
              "  </svg>\n",
              "    </button>\n",
              "\n",
              "  <style>\n",
              "    .colab-df-container {\n",
              "      display:flex;\n",
              "      gap: 12px;\n",
              "    }\n",
              "\n",
              "    .colab-df-convert {\n",
              "      background-color: #E8F0FE;\n",
              "      border: none;\n",
              "      border-radius: 50%;\n",
              "      cursor: pointer;\n",
              "      display: none;\n",
              "      fill: #1967D2;\n",
              "      height: 32px;\n",
              "      padding: 0 0 0 0;\n",
              "      width: 32px;\n",
              "    }\n",
              "\n",
              "    .colab-df-convert:hover {\n",
              "      background-color: #E2EBFA;\n",
              "      box-shadow: 0px 1px 2px rgba(60, 64, 67, 0.3), 0px 1px 3px 1px rgba(60, 64, 67, 0.15);\n",
              "      fill: #174EA6;\n",
              "    }\n",
              "\n",
              "    .colab-df-buttons div {\n",
              "      margin-bottom: 4px;\n",
              "    }\n",
              "\n",
              "    [theme=dark] .colab-df-convert {\n",
              "      background-color: #3B4455;\n",
              "      fill: #D2E3FC;\n",
              "    }\n",
              "\n",
              "    [theme=dark] .colab-df-convert:hover {\n",
              "      background-color: #434B5C;\n",
              "      box-shadow: 0px 1px 3px 1px rgba(0, 0, 0, 0.15);\n",
              "      filter: drop-shadow(0px 1px 2px rgba(0, 0, 0, 0.3));\n",
              "      fill: #FFFFFF;\n",
              "    }\n",
              "  </style>\n",
              "\n",
              "    <script>\n",
              "      const buttonEl =\n",
              "        document.querySelector('#df-7f523488-ea09-45ab-883b-3624f00b7751 button.colab-df-convert');\n",
              "      buttonEl.style.display =\n",
              "        google.colab.kernel.accessAllowed ? 'block' : 'none';\n",
              "\n",
              "      async function convertToInteractive(key) {\n",
              "        const element = document.querySelector('#df-7f523488-ea09-45ab-883b-3624f00b7751');\n",
              "        const dataTable =\n",
              "          await google.colab.kernel.invokeFunction('convertToInteractive',\n",
              "                                                    [key], {});\n",
              "        if (!dataTable) return;\n",
              "\n",
              "        const docLinkHtml = 'Like what you see? Visit the ' +\n",
              "          '<a target=\"_blank\" href=https://colab.research.google.com/notebooks/data_table.ipynb>data table notebook</a>'\n",
              "          + ' to learn more about interactive tables.';\n",
              "        element.innerHTML = '';\n",
              "        dataTable['output_type'] = 'display_data';\n",
              "        await google.colab.output.renderOutput(dataTable, element);\n",
              "        const docLink = document.createElement('div');\n",
              "        docLink.innerHTML = docLinkHtml;\n",
              "        element.appendChild(docLink);\n",
              "      }\n",
              "    </script>\n",
              "  </div>\n",
              "\n",
              "\n",
              "<div id=\"df-734492df-c63e-4af8-a731-9e96f5e66c9e\">\n",
              "  <button class=\"colab-df-quickchart\" onclick=\"quickchart('df-734492df-c63e-4af8-a731-9e96f5e66c9e')\"\n",
              "            title=\"Suggest charts\"\n",
              "            style=\"display:none;\">\n",
              "\n",
              "<svg xmlns=\"http://www.w3.org/2000/svg\" height=\"24px\"viewBox=\"0 0 24 24\"\n",
              "     width=\"24px\">\n",
              "    <g>\n",
              "        <path d=\"M19 3H5c-1.1 0-2 .9-2 2v14c0 1.1.9 2 2 2h14c1.1 0 2-.9 2-2V5c0-1.1-.9-2-2-2zM9 17H7v-7h2v7zm4 0h-2V7h2v10zm4 0h-2v-4h2v4z\"/>\n",
              "    </g>\n",
              "</svg>\n",
              "  </button>\n",
              "\n",
              "<style>\n",
              "  .colab-df-quickchart {\n",
              "      --bg-color: #E8F0FE;\n",
              "      --fill-color: #1967D2;\n",
              "      --hover-bg-color: #E2EBFA;\n",
              "      --hover-fill-color: #174EA6;\n",
              "      --disabled-fill-color: #AAA;\n",
              "      --disabled-bg-color: #DDD;\n",
              "  }\n",
              "\n",
              "  [theme=dark] .colab-df-quickchart {\n",
              "      --bg-color: #3B4455;\n",
              "      --fill-color: #D2E3FC;\n",
              "      --hover-bg-color: #434B5C;\n",
              "      --hover-fill-color: #FFFFFF;\n",
              "      --disabled-bg-color: #3B4455;\n",
              "      --disabled-fill-color: #666;\n",
              "  }\n",
              "\n",
              "  .colab-df-quickchart {\n",
              "    background-color: var(--bg-color);\n",
              "    border: none;\n",
              "    border-radius: 50%;\n",
              "    cursor: pointer;\n",
              "    display: none;\n",
              "    fill: var(--fill-color);\n",
              "    height: 32px;\n",
              "    padding: 0;\n",
              "    width: 32px;\n",
              "  }\n",
              "\n",
              "  .colab-df-quickchart:hover {\n",
              "    background-color: var(--hover-bg-color);\n",
              "    box-shadow: 0 1px 2px rgba(60, 64, 67, 0.3), 0 1px 3px 1px rgba(60, 64, 67, 0.15);\n",
              "    fill: var(--button-hover-fill-color);\n",
              "  }\n",
              "\n",
              "  .colab-df-quickchart-complete:disabled,\n",
              "  .colab-df-quickchart-complete:disabled:hover {\n",
              "    background-color: var(--disabled-bg-color);\n",
              "    fill: var(--disabled-fill-color);\n",
              "    box-shadow: none;\n",
              "  }\n",
              "\n",
              "  .colab-df-spinner {\n",
              "    border: 2px solid var(--fill-color);\n",
              "    border-color: transparent;\n",
              "    border-bottom-color: var(--fill-color);\n",
              "    animation:\n",
              "      spin 1s steps(1) infinite;\n",
              "  }\n",
              "\n",
              "  @keyframes spin {\n",
              "    0% {\n",
              "      border-color: transparent;\n",
              "      border-bottom-color: var(--fill-color);\n",
              "      border-left-color: var(--fill-color);\n",
              "    }\n",
              "    20% {\n",
              "      border-color: transparent;\n",
              "      border-left-color: var(--fill-color);\n",
              "      border-top-color: var(--fill-color);\n",
              "    }\n",
              "    30% {\n",
              "      border-color: transparent;\n",
              "      border-left-color: var(--fill-color);\n",
              "      border-top-color: var(--fill-color);\n",
              "      border-right-color: var(--fill-color);\n",
              "    }\n",
              "    40% {\n",
              "      border-color: transparent;\n",
              "      border-right-color: var(--fill-color);\n",
              "      border-top-color: var(--fill-color);\n",
              "    }\n",
              "    60% {\n",
              "      border-color: transparent;\n",
              "      border-right-color: var(--fill-color);\n",
              "    }\n",
              "    80% {\n",
              "      border-color: transparent;\n",
              "      border-right-color: var(--fill-color);\n",
              "      border-bottom-color: var(--fill-color);\n",
              "    }\n",
              "    90% {\n",
              "      border-color: transparent;\n",
              "      border-bottom-color: var(--fill-color);\n",
              "    }\n",
              "  }\n",
              "</style>\n",
              "\n",
              "  <script>\n",
              "    async function quickchart(key) {\n",
              "      const quickchartButtonEl =\n",
              "        document.querySelector('#' + key + ' button');\n",
              "      quickchartButtonEl.disabled = true;  // To prevent multiple clicks.\n",
              "      quickchartButtonEl.classList.add('colab-df-spinner');\n",
              "      try {\n",
              "        const charts = await google.colab.kernel.invokeFunction(\n",
              "            'suggestCharts', [key], {});\n",
              "      } catch (error) {\n",
              "        console.error('Error during call to suggestCharts:', error);\n",
              "      }\n",
              "      quickchartButtonEl.classList.remove('colab-df-spinner');\n",
              "      quickchartButtonEl.classList.add('colab-df-quickchart-complete');\n",
              "    }\n",
              "    (() => {\n",
              "      let quickchartButtonEl =\n",
              "        document.querySelector('#df-734492df-c63e-4af8-a731-9e96f5e66c9e button');\n",
              "      quickchartButtonEl.style.display =\n",
              "        google.colab.kernel.accessAllowed ? 'block' : 'none';\n",
              "    })();\n",
              "  </script>\n",
              "</div>\n",
              "    </div>\n",
              "  </div>\n"
            ]
          },
          "metadata": {},
          "execution_count": 5
        }
      ]
    },
    {
      "cell_type": "markdown",
      "source": [
        "# Function to train and evaluate each classifier for the 3 data"
      ],
      "metadata": {
        "id": "zSBLHA7ELO4R"
      }
    },
    {
      "cell_type": "code",
      "source": [
        "def train_and_evaluate(X_train, X_test, y_train, y_test, classifier):\n",
        "    classifier.fit(X_train, y_train)\n",
        "    y_pred = classifier.predict(X_test)\n",
        "    accuracy = accuracy_score(y_test, y_pred)\n",
        "    precision = precision_score(y_test, y_pred, average='weighted')\n",
        "    recall = recall_score(y_test, y_pred, average='weighted')\n",
        "    f1 = f1_score(y_test, y_pred, average='weighted')\n",
        "    cm = confusion_matrix(y_test, y_pred)\n",
        "    print(f'Accuracy: {accuracy:.2f}')\n",
        "    print(f'Precision: {precision:.2f}')\n",
        "    print(f'Recall: {recall:.2f}')\n",
        "    print(f'F1-Score: {f1:.2f}')\n",
        "    print('Confusion Matrix:')\n",
        "    print(cm)\n",
        "    print('\\n')"
      ],
      "metadata": {
        "id": "BmyEHyg0NNOV"
      },
      "execution_count": 6,
      "outputs": []
    },
    {
      "cell_type": "markdown",
      "source": [
        "# Function to print the results of each classifier"
      ],
      "metadata": {
        "id": "BabLh6R5LfHI"
      }
    },
    {
      "cell_type": "code",
      "source": [
        "def print_results(X_train, X_test, y_train, y_test, classifiers):\n",
        "    for name, clf in classifiers.items():\n",
        "        print(f'{name}')\n",
        "        train_and_evaluate(X_train, X_test, y_train, y_test, clf)"
      ],
      "metadata": {
        "id": "aHtVMLiDLb6s"
      },
      "execution_count": 7,
      "outputs": []
    },
    {
      "cell_type": "markdown",
      "source": [
        "# Apply KNN, Decision Tree, Random Forest classifiers for the breast cancer dataset before dimensionality reduction"
      ],
      "metadata": {
        "id": "FNZAqAlIMzCJ"
      }
    },
    {
      "cell_type": "code",
      "source": [
        "X_bc_train, X_bc_test, y_bc_train, y_bc_test = train_test_split(\n",
        "    breast_cancer.data, breast_cancer.target, test_size=0.2, random_state=42\n",
        ")\n",
        "\n",
        "classifiers_bc = {\n",
        "    'KNN': KNeighborsClassifier(),\n",
        "    'Decision Tree': DecisionTreeClassifier(random_state=42),\n",
        "    'Random Forest': RandomForestClassifier()\n",
        "}\n",
        "\n",
        "print('\\nResults for Breast Cancer dataset:')\n",
        "print_results(X_bc_train, X_bc_test, y_bc_train, y_bc_test, classifiers_bc)"
      ],
      "metadata": {
        "colab": {
          "base_uri": "https://localhost:8080/"
        },
        "id": "F6E9_KycMyQQ",
        "outputId": "c9800b9c-90dc-44ce-d8a5-803e1f5c909c"
      },
      "execution_count": 8,
      "outputs": [
        {
          "output_type": "stream",
          "name": "stdout",
          "text": [
            "\n",
            "Results for Breast Cancer dataset:\n",
            "KNN\n",
            "Accuracy: 0.96\n",
            "Precision: 0.96\n",
            "Recall: 0.96\n",
            "F1-Score: 0.96\n",
            "Confusion Matrix:\n",
            "[[38  5]\n",
            " [ 0 71]]\n",
            "\n",
            "\n",
            "Decision Tree\n",
            "Accuracy: 0.95\n",
            "Precision: 0.95\n",
            "Recall: 0.95\n",
            "F1-Score: 0.95\n",
            "Confusion Matrix:\n",
            "[[40  3]\n",
            " [ 3 68]]\n",
            "\n",
            "\n",
            "Random Forest\n",
            "Accuracy: 0.96\n",
            "Precision: 0.97\n",
            "Recall: 0.96\n",
            "F1-Score: 0.96\n",
            "Confusion Matrix:\n",
            "[[40  3]\n",
            " [ 1 70]]\n",
            "\n",
            "\n"
          ]
        }
      ]
    },
    {
      "cell_type": "markdown",
      "source": [
        "\n",
        "KNN\n",
        "> *   KNN achieved high accuracy, precision, recall, and F1-Score.\n",
        "The confusion matrix indicates that there are 38 true negatives, 71 true positives (TP), 5 false positives (FP), and 0 false negatives (FN).\n",
        "\n",
        "Decision tree\n",
        "> * Decision Tree achieved slightly lower accuracy compared to KNN.\n",
        "\n",
        "Random Forest\n",
        ">* Random Forest performed similarly to KNN with high accuracy, precision, recall, and F1-Score.\n",
        "\n",
        "The classifiers (KNN, Decision Tree, and Random Forest) are performing well on the Breast Cancer dataset.\n",
        "Random Forest and KNN achieved the highest precision, indicating a good balance between true positives and false positives.\n",
        "\n",
        "\n",
        "\n"
      ],
      "metadata": {
        "id": "-eEuD_asM1lI"
      }
    },
    {
      "cell_type": "code",
      "source": [
        "X_iris_train, X_iris_test, y_iris_train, y_iris_test = train_test_split(\n",
        "    iris.data, iris.target, test_size=0.2, random_state=42\n",
        ")\n",
        "\n",
        "classifiers_iris = {\n",
        "    'KNN': KNeighborsClassifier(),\n",
        "    'Decision Tree': DecisionTreeClassifier(random_state=42),\n",
        "    'Random Forest': RandomForestClassifier(random_state=42)\n",
        "}\n",
        "\n",
        "print('\\nResults for Iris dataset:')\n",
        "print_results(X_iris_train, X_iris_test, y_iris_train, y_iris_test, classifiers_iris)"
      ],
      "metadata": {
        "id": "RnNKIWZJNjbU",
        "colab": {
          "base_uri": "https://localhost:8080/"
        },
        "outputId": "08ccee38-3aeb-42cf-83d1-d3cfb72b921c"
      },
      "execution_count": 9,
      "outputs": [
        {
          "output_type": "stream",
          "name": "stdout",
          "text": [
            "\n",
            "Results for Iris dataset:\n",
            "KNN\n",
            "Accuracy: 1.00\n",
            "Precision: 1.00\n",
            "Recall: 1.00\n",
            "F1-Score: 1.00\n",
            "Confusion Matrix:\n",
            "[[10  0  0]\n",
            " [ 0  9  0]\n",
            " [ 0  0 11]]\n",
            "\n",
            "\n",
            "Decision Tree\n",
            "Accuracy: 1.00\n",
            "Precision: 1.00\n",
            "Recall: 1.00\n",
            "F1-Score: 1.00\n",
            "Confusion Matrix:\n",
            "[[10  0  0]\n",
            " [ 0  9  0]\n",
            " [ 0  0 11]]\n",
            "\n",
            "\n",
            "Random Forest\n",
            "Accuracy: 1.00\n",
            "Precision: 1.00\n",
            "Recall: 1.00\n",
            "F1-Score: 1.00\n",
            "Confusion Matrix:\n",
            "[[10  0  0]\n",
            " [ 0  9  0]\n",
            " [ 0  0 11]]\n",
            "\n",
            "\n"
          ]
        }
      ]
    },
    {
      "cell_type": "markdown",
      "source": [
        "The classifiers (KNN, Decision Tree, and Random Forest) achieved exceptional performance on the Iris dataset."
      ],
      "metadata": {
        "id": "X03DH7HIOkqY"
      }
    },
    {
      "cell_type": "code",
      "source": [
        "X_diabetes_train, X_diabetes_test, y_diabetes_train, y_diabetes_test = train_test_split(\n",
        "    diabetes.drop('Outcome', axis=1), diabetes['Outcome'], test_size=0.2, random_state=42\n",
        ")\n",
        "\n",
        "classifiers_diabetes = {\n",
        "    'KNN': KNeighborsClassifier(),\n",
        "    'Decision Tree': DecisionTreeClassifier(random_state=42),\n",
        "    'Random Forest': RandomForestClassifier(random_state=42)\n",
        "}\n",
        "\n",
        "print('\\nResults for Diabetes dataset:')\n",
        "print_results(X_diabetes_train, X_diabetes_test, y_diabetes_train, y_diabetes_test, classifiers_diabetes)"
      ],
      "metadata": {
        "id": "hDPDkNY6No1O",
        "colab": {
          "base_uri": "https://localhost:8080/"
        },
        "outputId": "1eaecfb3-3c95-4291-bd38-3ab6f5ea22b9"
      },
      "execution_count": 10,
      "outputs": [
        {
          "output_type": "stream",
          "name": "stdout",
          "text": [
            "\n",
            "Results for Diabetes dataset:\n",
            "KNN\n",
            "Accuracy: 0.66\n",
            "Precision: 0.67\n",
            "Recall: 0.66\n",
            "F1-Score: 0.67\n",
            "Confusion Matrix:\n",
            "[[70 29]\n",
            " [23 32]]\n",
            "\n",
            "\n",
            "Decision Tree\n",
            "Accuracy: 0.75\n",
            "Precision: 0.76\n",
            "Recall: 0.75\n",
            "F1-Score: 0.75\n",
            "Confusion Matrix:\n",
            "[[75 24]\n",
            " [15 40]]\n",
            "\n",
            "\n",
            "Random Forest\n",
            "Accuracy: 0.72\n",
            "Precision: 0.72\n",
            "Recall: 0.72\n",
            "F1-Score: 0.72\n",
            "Confusion Matrix:\n",
            "[[77 22]\n",
            " [21 34]]\n",
            "\n",
            "\n"
          ]
        }
      ]
    },
    {
      "cell_type": "markdown",
      "source": [
        "KNN\n",
        "> The confusion matrix indicates that there are a significant number of false positives and false negatives. This suggests that the KNN model struggles to correctly classify instances, leading to a relatively low accuracy.\n",
        "\n",
        "Decision Tree\n",
        "> The Decision Tree model performs better than KNN\n",
        "\n",
        "Random Forest\n",
        "> Random Forest performs similarly to the Decision Tree.\n",
        "\n",
        "\n",
        "\n",
        "\n",
        "\n",
        "\n",
        "\n"
      ],
      "metadata": {
        "id": "TP6a4fGQO30Y"
      }
    },
    {
      "cell_type": "markdown",
      "source": [
        "# Apply pca and lda for the datasets and then applying knn,decision and random forest"
      ],
      "metadata": {
        "id": "CC7G6VGQQBgO"
      }
    },
    {
      "cell_type": "markdown",
      "source": [
        "Apply pca for breast_cancer data"
      ],
      "metadata": {
        "id": "7aUpmnuwQcSo"
      }
    },
    {
      "cell_type": "code",
      "source": [
        "n_components_bc_pca = 2\n",
        "breast_cancer_scaler = StandardScaler().fit_transform(breast_cancer.data)\n",
        "pca_bc = PCA(n_components=n_components_bc_pca)\n",
        "pca_result_bc = pca_bc.fit_transform(breast_cancer_scaler)\n",
        "\n",
        "print(f'\\nVariance of coefficients for Breast Cancer dataset after PCA ({n_components_bc_pca} components):')\n",
        "print(pca_bc.explained_variance_ratio_)"
      ],
      "metadata": {
        "id": "2bYsEShHOIMM",
        "colab": {
          "base_uri": "https://localhost:8080/"
        },
        "outputId": "676ca224-cf39-4697-9c3e-3d1471e101cf"
      },
      "execution_count": 11,
      "outputs": [
        {
          "output_type": "stream",
          "name": "stdout",
          "text": [
            "\n",
            "Variance of coefficients for Breast Cancer dataset after PCA (2 components):\n",
            "[0.44272026 0.18971182]\n"
          ]
        }
      ]
    },
    {
      "cell_type": "code",
      "source": [
        "cumulative_explained_variance_bc = np.cumsum(pca_bc.explained_variance_ratio_)\n",
        "\n",
        "plt.figure(figsize=(8, 6))\n",
        "plt.plot(range(1, n_components_bc_pca + 1), cumulative_explained_variance_bc, marker='o', linestyle='-', color='b')\n",
        "plt.xlabel('Number of Principal Components')\n",
        "plt.ylabel('Cumulative Explained Variance')\n",
        "plt.title('Cumulative Explained Variance for Breast Cancer dataset')\n",
        "plt.grid(True)\n",
        "plt.show()"
      ],
      "metadata": {
        "colab": {
          "base_uri": "https://localhost:8080/",
          "height": 564
        },
        "id": "QrNpPXGiJFAN",
        "outputId": "9d51b9e7-eda5-40f5-a2f7-36293e815bbe"
      },
      "execution_count": 12,
      "outputs": [
        {
          "output_type": "display_data",
          "data": {
            "text/plain": [
              "<Figure size 800x600 with 1 Axes>"
            ],
            "image/png": "[encoded data removed]"
          },
          "metadata": {}
        }
      ]
    },
    {
      "cell_type": "markdown",
      "source": [
        "The cumulative explained variance is a measure of how much of the variance in the data can be explained by a certain number of principal components. Principal components are new, uncorrelated variables that are created by combining the original variables in the data.\n",
        "\n",
        "This graph suggests that the first few principal components capture the most important patterns in the data"
      ],
      "metadata": {
        "id": "HB7hIGe_RfEc"
      }
    },
    {
      "cell_type": "markdown",
      "source": [
        "Apply LDA for Breast Cancer dataset\n",
        "\n",
        "LDA\n",
        "\n",
        "> * Linear Discriminant Analysis (LDA) is a dimensionality reduction and classification technique used in machine learning and statistics\n",
        "> * The primary goal of LDA is to maximize the separation between multiple classes in the feature space while minimizing the variance within each class.\n",
        "> *  LDA provides a way to reduce the dimensionality of the input features while preserving the discriminatory information between classes. It transforms the original features into a new set of features, known as discriminant functions or linear discriminants.\n",
        "\n",
        "\n"
      ],
      "metadata": {
        "id": "7CIjbr8IQm1h"
      }
    },
    {
      "cell_type": "code",
      "source": [
        "n_components_lda_bc = 1\n",
        "lda_bc_original = LinearDiscriminantAnalysis(n_components=n_components_lda_bc)\n",
        "lda_result_bc_original = lda_bc_original.fit_transform(breast_cancer_scaler, breast_cancer.target)"
      ],
      "metadata": {
        "id": "Rsz5jnH7QkMD"
      },
      "execution_count": 13,
      "outputs": []
    },
    {
      "cell_type": "markdown",
      "source": [
        "# 2D scatter plot for Breast Cancer dataset after LDA"
      ],
      "metadata": {
        "id": "wcHomfQwR83X"
      }
    },
    {
      "cell_type": "code",
      "source": [
        "plt.figure(figsize=(8, 6))\n",
        "for label in np.unique(breast_cancer.target):\n",
        "    plt.scatter(lda_result_bc_original[breast_cancer.target == label], np.zeros_like(lda_result_bc_original[breast_cancer.target == label]),\n",
        "                label=f'Class {label}', alpha=0.7)\n",
        "\n",
        "plt.xlabel('LDA Component 1')\n",
        "plt.title('1D Scatter Plot for Breast Cancer dataset after LDA on original data')\n",
        "plt.legend()\n",
        "plt.show()"
      ],
      "metadata": {
        "colab": {
          "base_uri": "https://localhost:8080/",
          "height": 564
        },
        "id": "1IRC3s-YJNPW",
        "outputId": "090999fe-880e-46e8-8865-a5e91252723f"
      },
      "execution_count": 14,
      "outputs": [
        {
          "output_type": "display_data",
          "data": {
            "text/plain": [
              "<Figure size 800x600 with 1 Axes>"
            ],
            "image/png": "[encoded data removed]"
          },
          "metadata": {}
        }
      ]
    },
    {
      "cell_type": "markdown",
      "source": [
        "Train and evaluate classifiers for Breast Cancer dataset after PCA"
      ],
      "metadata": {
        "id": "fQhTzjmcQ1w0"
      }
    },
    {
      "cell_type": "code",
      "source": [
        "X_bc_pca_train, X_bc_pca_test, y_bc_pca_train, y_bc_pca_test = train_test_split(\n",
        "    breast_cancer_scaler, breast_cancer.target, test_size=0.2, random_state=42\n",
        ")\n",
        "\n",
        "classifiers_bc_pca = {\n",
        "    'KNN': KNeighborsClassifier(),\n",
        "    'Decision Tree': DecisionTreeClassifier(random_state=42),\n",
        "    'Random Forest': RandomForestClassifier(random_state=42)\n",
        "}\n",
        "\n",
        "print('\\nResults for Breast Cancer dataset after PCA:')\n",
        "print_results(X_bc_pca_train, X_bc_pca_test, y_bc_pca_train, y_bc_pca_test, classifiers_bc_pca)"
      ],
      "metadata": {
        "id": "1uirA4meQ3bM",
        "colab": {
          "base_uri": "https://localhost:8080/"
        },
        "outputId": "9049772a-f756-4add-9b78-74c9557ed04d"
      },
      "execution_count": 15,
      "outputs": [
        {
          "output_type": "stream",
          "name": "stdout",
          "text": [
            "\n",
            "Results for Breast Cancer dataset after PCA:\n",
            "KNN\n",
            "Accuracy: 0.95\n",
            "Precision: 0.95\n",
            "Recall: 0.95\n",
            "F1-Score: 0.95\n",
            "Confusion Matrix:\n",
            "[[40  3]\n",
            " [ 3 68]]\n",
            "\n",
            "\n",
            "Decision Tree\n",
            "Accuracy: 0.95\n",
            "Precision: 0.95\n",
            "Recall: 0.95\n",
            "F1-Score: 0.95\n",
            "Confusion Matrix:\n",
            "[[40  3]\n",
            " [ 3 68]]\n",
            "\n",
            "\n",
            "Random Forest\n",
            "Accuracy: 0.96\n",
            "Precision: 0.97\n",
            "Recall: 0.96\n",
            "F1-Score: 0.96\n",
            "Confusion Matrix:\n",
            "[[40  3]\n",
            " [ 1 70]]\n",
            "\n",
            "\n"
          ]
        }
      ]
    },
    {
      "cell_type": "markdown",
      "source": [
        "Train and evaluate classifiers for Breast Cancer dataset after LDA"
      ],
      "metadata": {
        "id": "jKCxjDSMiiRI"
      }
    },
    {
      "cell_type": "code",
      "source": [
        "X_bc_lda_train, X_bc_lda_test, y_bc_lda_train, y_bc_lda_test = train_test_split(\n",
        "    breast_cancer_scaler, breast_cancer.target, test_size=0.2, random_state=42\n",
        ")\n",
        "\n",
        "classifiers_bc_lda_original = {\n",
        "    'KNN': KNeighborsClassifier(),\n",
        "    'Decision Tree': DecisionTreeClassifier(random_state=42),\n",
        "    'Random Forest': RandomForestClassifier(random_state=42)\n",
        "}\n",
        "\n",
        "print('\\nResults for Breast Cancer dataset after LDA on original data:')\n",
        "print_results(X_bc_lda_train, X_bc_lda_test, y_bc_lda_train, y_bc_lda_test, classifiers_bc_lda_original)"
      ],
      "metadata": {
        "colab": {
          "base_uri": "https://localhost:8080/"
        },
        "id": "8pBGyZZlfg82",
        "outputId": "f74aa2dd-62f0-407f-d911-0cd9c87a712c"
      },
      "execution_count": 18,
      "outputs": [
        {
          "output_type": "stream",
          "name": "stdout",
          "text": [
            "\n",
            "Results for Breast Cancer dataset after LDA on original data:\n",
            "KNN\n",
            "Accuracy: 0.95\n",
            "Precision: 0.95\n",
            "Recall: 0.95\n",
            "F1-Score: 0.95\n",
            "Confusion Matrix:\n",
            "[[40  3]\n",
            " [ 3 68]]\n",
            "\n",
            "\n",
            "Decision Tree\n",
            "Accuracy: 0.95\n",
            "Precision: 0.95\n",
            "Recall: 0.95\n",
            "F1-Score: 0.95\n",
            "Confusion Matrix:\n",
            "[[40  3]\n",
            " [ 3 68]]\n",
            "\n",
            "\n",
            "Random Forest\n",
            "Accuracy: 0.96\n",
            "Precision: 0.97\n",
            "Recall: 0.96\n",
            "F1-Score: 0.96\n",
            "Confusion Matrix:\n",
            "[[40  3]\n",
            " [ 1 70]]\n",
            "\n",
            "\n"
          ]
        }
      ]
    },
    {
      "cell_type": "markdown",
      "source": [
        "after applying PCA and LDA separatively on the original data the two dimentionality reductiont techniques has similar results. performance of the model has increased, especially in the case of Random Forest where there is a notable enhancement in accuracy and recall."
      ],
      "metadata": {
        "id": "jiTu6TOJ3XfH"
      }
    },
    {
      "cell_type": "markdown",
      "source": [
        "Apply PCA for Iris dataset"
      ],
      "metadata": {
        "id": "Mb7EqfTeRCh2"
      }
    },
    {
      "cell_type": "code",
      "source": [
        "n_components_iris_pca = 2\n",
        "iris_scaler = StandardScaler().fit_transform(iris.data)\n",
        "pca_iris = PCA(n_components=n_components_iris_pca)\n",
        "pca_result_iris = pca_iris.fit_transform(iris_scaler)\n",
        "\n",
        "print(f'\\nVariance of coefficients for Iris dataset after PCA ({n_components_iris_pca} components):')\n",
        "print(pca_iris.explained_variance_ratio_)"
      ],
      "metadata": {
        "id": "JWMhyo1rQ_tY",
        "colab": {
          "base_uri": "https://localhost:8080/"
        },
        "outputId": "ca9ffb77-2510-4594-bb36-28cd095727a7"
      },
      "execution_count": 19,
      "outputs": [
        {
          "output_type": "stream",
          "name": "stdout",
          "text": [
            "\n",
            "Variance of coefficients for Iris dataset after PCA (2 components):\n",
            "[0.72962445 0.22850762]\n"
          ]
        }
      ]
    },
    {
      "cell_type": "code",
      "source": [
        "cumulative_explained_variance_iris = np.cumsum(pca_iris.explained_variance_ratio_)\n",
        "\n",
        "plt.figure(figsize=(8, 6))\n",
        "plt.plot(range(1, n_components_iris_pca + 1), cumulative_explained_variance_iris, marker='o', linestyle='-', color='b')\n",
        "plt.xlabel('Number of Principal Components')\n",
        "plt.ylabel('Cumulative Explained Variance')\n",
        "plt.title('Cumulative Explained Variance for Iris dataset')\n",
        "plt.grid(True)\n",
        "plt.show()"
      ],
      "metadata": {
        "colab": {
          "base_uri": "https://localhost:8080/",
          "height": 564
        },
        "id": "bnLApVBIKkh4",
        "outputId": "f223dbc0-e762-4b4f-96d4-f11ec643938b"
      },
      "execution_count": 20,
      "outputs": [
        {
          "output_type": "display_data",
          "data": {
            "text/plain": [
              "<Figure size 800x600 with 1 Axes>"
            ],
            "image/png": "[encoded data removed]"
          },
          "metadata": {}
        }
      ]
    },
    {
      "cell_type": "markdown",
      "source": [
        "Apply LDA for Iris dataset"
      ],
      "metadata": {
        "id": "eqWII3p0RJ0_"
      }
    },
    {
      "cell_type": "code",
      "source": [
        "n_components_lda_iris = 2\n",
        "lda_iris_original = LinearDiscriminantAnalysis(n_components=n_components_lda_iris)\n",
        "lda_result_iris_original = lda_iris_original.fit_transform(iris_scaler, iris.target)"
      ],
      "metadata": {
        "id": "Hw2gejc_ROkg"
      },
      "execution_count": 22,
      "outputs": []
    },
    {
      "cell_type": "markdown",
      "source": [
        "# 2D scatter plot for iris dataset after LDA"
      ],
      "metadata": {
        "id": "whKe7nzP2l4A"
      }
    },
    {
      "cell_type": "code",
      "source": [
        "plt.figure(figsize=(8, 6))\n",
        "for label in np.unique(iris.target):\n",
        "    plt.scatter(lda_result_iris_original[iris.target == label, 0], lda_result_iris_original[iris.target == label, 1],\n",
        "                label=f'Class {label}', alpha=0.7)\n",
        "\n",
        "plt.xlabel('LDA Component 1')\n",
        "plt.ylabel('LDA Component 2')\n",
        "plt.title('2D Scatter Plot for Iris dataset after LDA on original data')\n",
        "plt.legend()\n",
        "plt.show()\n"
      ],
      "metadata": {
        "colab": {
          "base_uri": "https://localhost:8080/",
          "height": 564
        },
        "id": "H7FrR67JKqD_",
        "outputId": "404f0951-0d4d-4b25-f0b1-94e7ed94ba25"
      },
      "execution_count": 23,
      "outputs": [
        {
          "output_type": "display_data",
          "data": {
            "text/plain": [
              "<Figure size 800x600 with 1 Axes>"
            ],
            "image/png": "[encoded data removed]"
          },
          "metadata": {}
        }
      ]
    },
    {
      "cell_type": "markdown",
      "source": [
        "Train and evaluate classifiers for Iris dataset after PCA"
      ],
      "metadata": {
        "id": "zG7tjm0WRWWL"
      }
    },
    {
      "cell_type": "code",
      "source": [
        "X_iris_pca_train, X_iris_pca_test, y_iris_pca_train, y_iris_pca_test = train_test_split(\n",
        "    iris_scaler, iris.target, test_size=0.2, random_state=42\n",
        ")\n",
        "\n",
        "classifiers_iris_pca = {\n",
        "    'KNN': KNeighborsClassifier(),\n",
        "    'Decision Tree': DecisionTreeClassifier(random_state=42),\n",
        "    'Random Forest': RandomForestClassifier(random_state=42)\n",
        "}\n",
        "\n",
        "print('\\nResults for Iris dataset after PCA:')\n",
        "print_results(X_iris_pca_train, X_iris_pca_test, y_iris_pca_train, y_iris_pca_test, classifiers_iris_pca)\n"
      ],
      "metadata": {
        "id": "oIY2f_mnRQ69",
        "colab": {
          "base_uri": "https://localhost:8080/"
        },
        "outputId": "75acc0f8-373e-418b-8643-682241767947"
      },
      "execution_count": 24,
      "outputs": [
        {
          "output_type": "stream",
          "name": "stdout",
          "text": [
            "\n",
            "Results for Iris dataset after PCA:\n",
            "KNN\n",
            "Accuracy: 1.00\n",
            "Precision: 1.00\n",
            "Recall: 1.00\n",
            "F1-Score: 1.00\n",
            "Confusion Matrix:\n",
            "[[10  0  0]\n",
            " [ 0  9  0]\n",
            " [ 0  0 11]]\n",
            "\n",
            "\n",
            "Decision Tree\n",
            "Accuracy: 1.00\n",
            "Precision: 1.00\n",
            "Recall: 1.00\n",
            "F1-Score: 1.00\n",
            "Confusion Matrix:\n",
            "[[10  0  0]\n",
            " [ 0  9  0]\n",
            " [ 0  0 11]]\n",
            "\n",
            "\n",
            "Random Forest\n",
            "Accuracy: 1.00\n",
            "Precision: 1.00\n",
            "Recall: 1.00\n",
            "F1-Score: 1.00\n",
            "Confusion Matrix:\n",
            "[[10  0  0]\n",
            " [ 0  9  0]\n",
            " [ 0  0 11]]\n",
            "\n",
            "\n"
          ]
        }
      ]
    },
    {
      "cell_type": "markdown",
      "source": [
        "Train and evaluate classifiers for Iris dataset after LDA"
      ],
      "metadata": {
        "id": "o-7Tf2Q9i3gu"
      }
    },
    {
      "cell_type": "code",
      "source": [
        "X_iris_lda_train, X_iris_lda_test, y_iris_lda_train, y_iris_lda_test = train_test_split(\n",
        "    iris_scaler, iris.target, test_size=0.2, random_state=42\n",
        ")\n",
        "\n",
        "classifiers_iris_lda_original = {\n",
        "    'KNN': KNeighborsClassifier(),\n",
        "    'Decision Tree': DecisionTreeClassifier(random_state=42),\n",
        "    'Random Forest': RandomForestClassifier(random_state=42)\n",
        "}\n",
        "\n",
        "print('\\nResults for Iris dataset after LDA on original data:')\n",
        "print_results(X_iris_lda_train, X_iris_lda_test, y_iris_lda_train, y_iris_lda_test, classifiers_iris_lda_original)"
      ],
      "metadata": {
        "colab": {
          "base_uri": "https://localhost:8080/"
        },
        "id": "JEbwL1Mfg11_",
        "outputId": "084dfe3b-5d36-40f5-ddf2-47ee07bc1258"
      },
      "execution_count": 25,
      "outputs": [
        {
          "output_type": "stream",
          "name": "stdout",
          "text": [
            "\n",
            "Results for Iris dataset after LDA on original data:\n",
            "KNN\n",
            "Accuracy: 1.00\n",
            "Precision: 1.00\n",
            "Recall: 1.00\n",
            "F1-Score: 1.00\n",
            "Confusion Matrix:\n",
            "[[10  0  0]\n",
            " [ 0  9  0]\n",
            " [ 0  0 11]]\n",
            "\n",
            "\n",
            "Decision Tree\n",
            "Accuracy: 1.00\n",
            "Precision: 1.00\n",
            "Recall: 1.00\n",
            "F1-Score: 1.00\n",
            "Confusion Matrix:\n",
            "[[10  0  0]\n",
            " [ 0  9  0]\n",
            " [ 0  0 11]]\n",
            "\n",
            "\n",
            "Random Forest\n",
            "Accuracy: 1.00\n",
            "Precision: 1.00\n",
            "Recall: 1.00\n",
            "F1-Score: 1.00\n",
            "Confusion Matrix:\n",
            "[[10  0  0]\n",
            " [ 0  9  0]\n",
            " [ 0  0 11]]\n",
            "\n",
            "\n"
          ]
        }
      ]
    },
    {
      "cell_type": "markdown",
      "source": [
        "All the models achieved perfect results in case of both pca and lda applied data"
      ],
      "metadata": {
        "id": "HvGm8-RY4Lzw"
      }
    },
    {
      "cell_type": "code",
      "source": [
        "y_pred_iris_pca_lda = classifiers_iris_lda_original['Random Forest'].predict(X_iris_pca_test)\n",
        "class_names_iris = iris.target_names\n",
        "plot_confusion_matrix_heatmap(y_iris_pca_test, y_pred_iris_pca_lda, class_names_iris)\n"
      ],
      "metadata": {
        "colab": {
          "base_uri": "https://localhost:8080/",
          "height": 564
        },
        "id": "RI7xGKRKKwcr",
        "outputId": "92e854d4-2a5f-4c25-bd0d-635eb016a8f7"
      },
      "execution_count": 27,
      "outputs": [
        {
          "output_type": "display_data",
          "data": {
            "text/plain": [
              "<Figure size 800x600 with 2 Axes>"
            ],
            "image/png": "[encoded data removed]"
          },
          "metadata": {}
        }
      ]
    },
    {
      "cell_type": "markdown",
      "source": [
        "Apply PCA for Diabetes dataset"
      ],
      "metadata": {
        "id": "1AG3tOy9Rduk"
      }
    },
    {
      "cell_type": "code",
      "source": [
        "n_components_diabetes_pca = 2\n",
        "\n",
        "diabetes_scaler = StandardScaler().fit_transform(diabetes.drop('Outcome', axis=1))\n",
        "pca_diabetes = PCA(n_components=n_components_diabetes_pca)\n",
        "pca_result_diabetes = pca_diabetes.fit_transform(diabetes_scaler)\n",
        "\n",
        "print(f'\\nVariance of coefficients for Diabetes dataset after PCA ({n_components_diabetes_pca} components):')\n",
        "print(pca_diabetes.explained_variance_ratio_)\n"
      ],
      "metadata": {
        "id": "oVbnVkG8Rd_F",
        "colab": {
          "base_uri": "https://localhost:8080/"
        },
        "outputId": "52d52376-fe36-4420-d59f-9bad2c9a6909"
      },
      "execution_count": 28,
      "outputs": [
        {
          "output_type": "stream",
          "name": "stdout",
          "text": [
            "\n",
            "Variance of coefficients for Diabetes dataset after PCA (2 components):\n",
            "[0.26179749 0.21640127]\n"
          ]
        }
      ]
    },
    {
      "cell_type": "code",
      "source": [
        "cumulative_explained_variance_diabetes = np.cumsum(pca_diabetes.explained_variance_ratio_)\n",
        "\n",
        "plt.figure(figsize=(8, 6))\n",
        "plt.plot(range(1, n_components_diabetes_pca + 1), cumulative_explained_variance_diabetes, marker='o', linestyle='-', color='b')\n",
        "plt.xlabel('Number of Principal Components')\n",
        "plt.ylabel('Cumulative Explained Variance')\n",
        "plt.title('Cumulative Explained Variance for Diabetes dataset')\n",
        "plt.grid(True)\n",
        "plt.show()\n"
      ],
      "metadata": {
        "colab": {
          "base_uri": "https://localhost:8080/",
          "height": 564
        },
        "id": "zq1mEctHK3FX",
        "outputId": "50988713-8e77-4049-c7d8-5b1ec62ec70c"
      },
      "execution_count": 29,
      "outputs": [
        {
          "output_type": "display_data",
          "data": {
            "text/plain": [
              "<Figure size 800x600 with 1 Axes>"
            ],
            "image/png": "[encoded data removed]"
          },
          "metadata": {}
        }
      ]
    },
    {
      "cell_type": "markdown",
      "source": [
        "Apply LDA for Diabetes dataset"
      ],
      "metadata": {
        "id": "iwsu1D28Rlnp"
      }
    },
    {
      "cell_type": "code",
      "source": [
        "n_components_lda_diabetes = 1\n",
        "lda_diabetes_original = LinearDiscriminantAnalysis(n_components=n_components_lda_diabetes)\n",
        "lda_result_diabetes_original = lda_diabetes_original.fit_transform(diabetes_scaler, diabetes['Outcome'])"
      ],
      "metadata": {
        "id": "FA8iERe3RjqQ"
      },
      "execution_count": 30,
      "outputs": []
    },
    {
      "cell_type": "code",
      "source": [
        "plt.figure(figsize=(8, 6))\n",
        "for label in np.unique(diabetes['Outcome']):\n",
        "    plt.scatter(lda_result_diabetes_original[diabetes['Outcome'] == label], np.zeros_like(lda_result_diabetes_original[diabetes['Outcome'] == label]),\n",
        "                label=f'Class {label}', alpha=0.7)\n",
        "\n",
        "plt.xlabel('LDA Component 1')\n",
        "plt.title('1D Scatter Plot for Diabetes dataset after LDA on original data')\n",
        "plt.legend()\n",
        "plt.show()\n"
      ],
      "metadata": {
        "colab": {
          "base_uri": "https://localhost:8080/",
          "height": 564
        },
        "id": "_JDUUsVYK9xZ",
        "outputId": "f308c491-9857-4a6a-b442-6dbe41399176"
      },
      "execution_count": 31,
      "outputs": [
        {
          "output_type": "display_data",
          "data": {
            "text/plain": [
              "<Figure size 800x600 with 1 Axes>"
            ],
            "image/png": "[encoded data removed]"
          },
          "metadata": {}
        }
      ]
    },
    {
      "cell_type": "markdown",
      "source": [
        "Train and evaluate classifiers for Diabetes dataset after PCA"
      ],
      "metadata": {
        "id": "XlTQUSi6Rt9e"
      }
    },
    {
      "cell_type": "code",
      "source": [
        "X_diabetes_pca_train, X_diabetes_pca_test, y_diabetes_pca_train, y_diabetes_pca_test = train_test_split(\n",
        "    diabetes_scaler, diabetes['Outcome'], test_size=0.2, random_state=42\n",
        ")\n",
        "\n",
        "classifiers_diabetes_pca = {\n",
        "    'KNN': KNeighborsClassifier(),\n",
        "    'Decision Tree': DecisionTreeClassifier(random_state=42),\n",
        "    'Random Forest': RandomForestClassifier(random_state=42)\n",
        "}\n",
        "\n",
        "print('\\nResults for Diabetes dataset after PCA:')\n",
        "print_results(X_diabetes_pca_train, X_diabetes_pca_test, y_diabetes_pca_train, y_diabetes_pca_test, classifiers_diabetes_pca)"
      ],
      "metadata": {
        "id": "0JSHM7xTRrNy",
        "colab": {
          "base_uri": "https://localhost:8080/"
        },
        "outputId": "9970f309-0c81-4129-a8a7-18451c3b6f8e"
      },
      "execution_count": 32,
      "outputs": [
        {
          "output_type": "stream",
          "name": "stdout",
          "text": [
            "\n",
            "Results for Diabetes dataset after PCA:\n",
            "KNN\n",
            "Accuracy: 0.69\n",
            "Precision: 0.68\n",
            "Recall: 0.69\n",
            "F1-Score: 0.68\n",
            "Confusion Matrix:\n",
            "[[79 20]\n",
            " [28 27]]\n",
            "\n",
            "\n",
            "Decision Tree\n",
            "Accuracy: 0.75\n",
            "Precision: 0.76\n",
            "Recall: 0.75\n",
            "F1-Score: 0.75\n",
            "Confusion Matrix:\n",
            "[[75 24]\n",
            " [15 40]]\n",
            "\n",
            "\n",
            "Random Forest\n",
            "Accuracy: 0.73\n",
            "Precision: 0.73\n",
            "Recall: 0.73\n",
            "F1-Score: 0.73\n",
            "Confusion Matrix:\n",
            "[[78 21]\n",
            " [21 34]]\n",
            "\n",
            "\n"
          ]
        }
      ]
    },
    {
      "cell_type": "markdown",
      "source": [
        "Train and evaluate classifiers for Diabetes dataset after LDA"
      ],
      "metadata": {
        "id": "oSO5SQlgjCWN"
      }
    },
    {
      "cell_type": "code",
      "source": [
        "X_diabetes_lda_train, X_diabetes_lda_test, y_diabetes_lda_train, y_diabetes_lda_test = train_test_split(\n",
        "    diabetes_scaler, diabetes['Outcome'], test_size=0.2, random_state=42\n",
        ")\n",
        "\n",
        "classifiers_diabetes_lda_original = {\n",
        "    'KNN': KNeighborsClassifier(),\n",
        "    'Decision Tree': DecisionTreeClassifier(random_state=42),\n",
        "    'Random Forest': RandomForestClassifier(random_state=42)\n",
        "}\n",
        "\n",
        "print('\\nResults for Diabetes dataset after LDA on original data:')\n",
        "print_results(X_diabetes_lda_train, X_diabetes_lda_test, y_diabetes_lda_train, y_diabetes_lda_test, classifiers_diabetes_lda_original)"
      ],
      "metadata": {
        "colab": {
          "base_uri": "https://localhost:8080/"
        },
        "id": "UvtCL0_Xh3FK",
        "outputId": "79778ebd-aabb-4cdd-a574-d423d1eb3eaa"
      },
      "execution_count": 33,
      "outputs": [
        {
          "output_type": "stream",
          "name": "stdout",
          "text": [
            "\n",
            "Results for Diabetes dataset after LDA on original data:\n",
            "KNN\n",
            "Accuracy: 0.69\n",
            "Precision: 0.68\n",
            "Recall: 0.69\n",
            "F1-Score: 0.68\n",
            "Confusion Matrix:\n",
            "[[79 20]\n",
            " [28 27]]\n",
            "\n",
            "\n",
            "Decision Tree\n",
            "Accuracy: 0.75\n",
            "Precision: 0.76\n",
            "Recall: 0.75\n",
            "F1-Score: 0.75\n",
            "Confusion Matrix:\n",
            "[[75 24]\n",
            " [15 40]]\n",
            "\n",
            "\n",
            "Random Forest\n",
            "Accuracy: 0.73\n",
            "Precision: 0.73\n",
            "Recall: 0.73\n",
            "F1-Score: 0.73\n",
            "Confusion Matrix:\n",
            "[[78 21]\n",
            " [21 34]]\n",
            "\n",
            "\n"
          ]
        }
      ]
    },
    {
      "cell_type": "markdown",
      "source": [
        " The performance of KNN increased in case of both pca and lda"
      ],
      "metadata": {
        "id": "SeT8Rlj84quR"
      }
    },
    {
      "cell_type": "code",
      "source": [
        "y_pred_diabetes_pca_lda = classifiers_diabetes_lda_original['Random Forest'].predict(X_diabetes_pca_test)\n",
        "class_names_diabetes = ['No Diabetes', 'Diabetes']\n",
        "plot_confusion_matrix_heatmap(y_diabetes_pca_test, y_pred_diabetes_pca_lda, class_names_diabetes)\n"
      ],
      "metadata": {
        "colab": {
          "base_uri": "https://localhost:8080/",
          "height": 564
        },
        "id": "guZT8hOgLCoj",
        "outputId": "24486515-bd67-4af2-be2a-d2800b4e8fa4"
      },
      "execution_count": 34,
      "outputs": [
        {
          "output_type": "display_data",
          "data": {
            "text/plain": [
              "<Figure size 800x600 with 2 Axes>"
            ],
            "image/png": "[encoded data removed]"
          },
          "metadata": {}
        }
      ]
    }
  ]
}